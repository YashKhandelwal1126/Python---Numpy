{
  "nbformat": 4,
  "nbformat_minor": 0,
  "metadata": {
    "colab": {
      "name": "HW2_Khandelwal_Yash.ipynb",
      "provenance": [],
      "collapsed_sections": []
    },
    "kernelspec": {
      "name": "python3",
      "display_name": "Python 3"
    }
  },
  "cells": [
    {
      "cell_type": "markdown",
      "metadata": {
        "id": "bNsIruOzI4iF"
      },
      "source": [
        "## **Homework 2**\n",
        "\n",
        "### Create a copy of the notebook to start answering the questions. Name your notebook in the format HW2_lastname_firstname.ipynb to facilitate the grading process. \n",
        "\n",
        "### Answer all the questions, test your code to ensure there are no errors and the results are as expected. Once you have answered all the questions, save the final copy, then go to File-> click on Download.ipynb. Once the local copy has been downloaded, submit your file on Blackboard under the corresponding assignment section. Also provide us a link to your notebook during submission. \n",
        "\n",
        "### **The due date of this homework is 02/12/2021 (Friday).**\n",
        "\n",
        "### Please ensure you follow all the steps mentioned in the homework.\n",
        "\n",
        "### All the questions have a sample input and output to help you understand the question.\n",
        "\n",
        "### You can submit your solutions any number of times until the deadline.\n"
      ]
    },
    {
      "cell_type": "markdown",
      "metadata": {
        "id": "U3Yz3s2uio1F"
      },
      "source": [
        "**Q1. Lets consider your data is like the below cell:**\n",
        "\n",
        "**Q1-1**: Write a program that create a dataframe from the data.\n",
        "\n",
        "**Q1-2:** Select people that are psychologist or teacher and their number of cars is greater than their family size.\n",
        "\n",
        "**Q1-3:** Select people who have at most 2 family members and at least 1 car.\n",
        "\n",
        "**Q1-4:** Write a code that get number of unique jobs in this dataset.\n",
        "\n",
        "\n",
        "\n"
      ]
    },
    {
      "cell_type": "code",
      "metadata": {
        "id": "yR8lcOtcjxXD"
      },
      "source": [
        "data = {\"name\": [\"Joseph\", \"Jacob\", \"Sam\", \"Jesee\", \"Ryan\", \"Lisa\", \"Lee\"],\n",
        "        \"job\": [\"teacher\", \"psychologist\", \"data scientist\", \"software developer\", \"psychologist\", \"psychologist\", \"teacher\"],\n",
        "        \"family_size\": [3, 2, 1, 4, 2, 3, 2],\n",
        "        \"num_cars\": [3, 1, 1, 2, 2, 4, 1]}"
      ],
      "execution_count": null,
      "outputs": []
    },
    {
      "cell_type": "code",
      "metadata": {
        "id": "Youi5qMaP34p",
        "colab": {
          "base_uri": "https://localhost:8080/"
        },
        "outputId": "fd6fe8c2-6d9e-45a7-9372-6b62af5ab4af"
      },
      "source": [
        "# Type your solution here\n",
        "import pandas as pd\n",
        "import numpy as np\n",
        "\n",
        "data = {\"name\": [\"Joseph\", \"Jacob\", \"Sam\", \"Jesee\", \"Ryan\", \"Lisa\", \"Lee\"],\n",
        "        \"job\": [\"teacher\", \"psychologist\", \"data scientist\", \"software developer\", \"psychologist\", \"psychologist\", \"teacher\"],\n",
        "        \"family_size\": [3, 2, 1, 4, 2, 3, 2],\n",
        "        \"num_cars\": [3, 1, 1, 2, 2, 4, 1]}\n",
        "\n",
        "dataframe = pd.DataFrame(data)\n",
        "print(dataframe)\n",
        "\n",
        "# Select people that are psychologist or teacher and their number of cars is greater than their family size\n",
        "\n",
        "select1 = dataframe[(dataframe[\"job\"] == \"psychologist\") & (dataframe[\"num_cars\"] > dataframe[\"family_size\"])]\n",
        "select2 = dataframe[(dataframe[\"job\"] == \"teacher\") & (dataframe[\"num_cars\"] > dataframe[\"family_size\"])]\n",
        "\n",
        "print(select1)\n",
        "print(select2)\n",
        "\n",
        "# Select people who have at most 2 family members and at least 1 car\n",
        "\n",
        "select3 = dataframe[(dataframe[\"family_size\"] < 3) & (dataframe[\"num_cars\"] > 0)]\n",
        "print(select3)\n",
        "\n",
        "# Write a code that gets the number of unique jobs in this dataset\n",
        "print(\"Number of Unique Jobs:\", dataframe.job.nunique())\n",
        "\n",
        "\n"
      ],
      "execution_count": 28,
      "outputs": [
        {
          "output_type": "stream",
          "text": [
            "     name                 job  family_size  num_cars\n",
            "0  Joseph             teacher            3         3\n",
            "1   Jacob        psychologist            2         1\n",
            "2     Sam      data scientist            1         1\n",
            "3   Jesee  software developer            4         2\n",
            "4    Ryan        psychologist            2         2\n",
            "5    Lisa        psychologist            3         4\n",
            "6     Lee             teacher            2         1\n",
            "   name           job  family_size  num_cars\n",
            "5  Lisa  psychologist            3         4\n",
            "Empty DataFrame\n",
            "Columns: [name, job, family_size, num_cars]\n",
            "Index: []\n",
            "    name             job  family_size  num_cars\n",
            "1  Jacob    psychologist            2         1\n",
            "2    Sam  data scientist            1         1\n",
            "4   Ryan    psychologist            2         2\n",
            "6    Lee         teacher            2         1\n",
            "Number of Unique Jobs: 4\n"
          ],
          "name": "stdout"
        }
      ]
    },
    {
      "cell_type": "markdown",
      "metadata": {
        "id": "Ow6nG8k4l91X"
      },
      "source": [
        "**Q2. Lets consider you have two series like the below cell. Compute the mean of weights of each fruit.**"
      ]
    },
    {
      "cell_type": "code",
      "metadata": {
        "id": "u-X_DoOzVLLB"
      },
      "source": [
        "import numpy as np\n",
        "import pandas as pd\n",
        "\n",
        "fruit = pd.Series(np.random.choice(['apple', 'banana', 'carrot'], 10))\n",
        "weights = pd.Series(np.linspace(1, 10, 10))"
      ],
      "execution_count": 1,
      "outputs": []
    },
    {
      "cell_type": "code",
      "metadata": {
        "id": "S419nzYnpU__",
        "colab": {
          "base_uri": "https://localhost:8080/"
        },
        "outputId": "154dc91f-d895-4fc7-bf61-38866778c499"
      },
      "source": [
        "# Type your solution here\n",
        "import numpy as np\n",
        "import pandas as pd\n",
        "fruit = pd.Series(np.random.choice(['apple', 'banana', 'carrot'], 10))\n",
        "weights = pd.Series(np.linspace(1, 10, 10))\n",
        "\n",
        "#group the weights by fruit\n",
        "group = weights.groupby(fruit)\n",
        "\n",
        "# find the mean of each fruit\n",
        "mean = group.mean()\n",
        "\n",
        "print(mean)"
      ],
      "execution_count": 3,
      "outputs": [
        {
          "output_type": "stream",
          "text": [
            "apple     9.00\n",
            "banana    6.20\n",
            "carrot    3.75\n",
            "dtype: float64\n"
          ],
          "name": "stdout"
        }
      ]
    },
    {
      "cell_type": "markdown",
      "metadata": {
        "id": "g4lKaPIhtVrt"
      },
      "source": [
        "**Q3. Consider the below course_name array:**\n",
        "\n",
        "**Q3-1**: Write a NumPy program to get the indices of the sorted elements of **course_name** array.\n",
        "\n",
        "**Q3-2:** Write numpy code to check whether each element of **course_name** array starts with \"P\".\n"
      ]
    },
    {
      "cell_type": "code",
      "metadata": {
        "id": "RUP_jp2KtVrx"
      },
      "source": [
        "import numpy as np\n",
        "course_name = np.array(['Python', 'JS', 'examples', 'PHP', 'html'])"
      ],
      "execution_count": null,
      "outputs": []
    },
    {
      "cell_type": "code",
      "metadata": {
        "id": "U1i27POxv-o_",
        "colab": {
          "base_uri": "https://localhost:8080/"
        },
        "outputId": "56950676-1cb3-4093-9729-f84bedbb72a5"
      },
      "source": [
        "# Type your solution here\n",
        "import numpy as np\n",
        "course_name = np.array(['Python', 'JS', 'examples', 'PHP', 'html'])\n",
        "\n",
        "# Indices of the sorted elements of course_name\n",
        "course_Array_Sort = np.argsort(course_name)\n",
        "\n",
        "print(course_Array_Sort)\n",
        "\n",
        "# Check if each element of course_name array starts with \"P\"\n",
        "\n",
        "p_Check = np.char.startswith(course_name, \"P\")\n",
        "\n",
        "print(p_Check)\n",
        "\n",
        "\n"
      ],
      "execution_count": 1,
      "outputs": [
        {
          "output_type": "stream",
          "text": [
            "[1 3 0 2 4]\n",
            "[ True False False  True False]\n"
          ],
          "name": "stdout"
        }
      ]
    },
    {
      "cell_type": "markdown",
      "metadata": {
        "id": "sUFItNFOxwkz"
      },
      "source": [
        "**Q4. Consider the below student_id array:**\n",
        "\n",
        "**Q4-1:** Reverse the **student_id** array. Print both original and reversed array.\n",
        "\n",
        "**Q4-2:** Get the 3-largest values of **student_id** array."
      ]
    },
    {
      "cell_type": "code",
      "metadata": {
        "id": "Rl5qzEjFv0nw"
      },
      "source": [
        "import numpy as np\n",
        "student_id = np.array([1023, 5202, 6230, 1671, 1682, 5241, 4532])"
      ],
      "execution_count": null,
      "outputs": []
    },
    {
      "cell_type": "code",
      "metadata": {
        "id": "EetvHGrUxMCC",
        "colab": {
          "base_uri": "https://localhost:8080/"
        },
        "outputId": "ee1bb156-9f77-4e12-a866-79d036ed8f78"
      },
      "source": [
        "# Type your solution here\n",
        "\n",
        "import numpy as np\n",
        "student_id = np.array([1023, 5202, 6230, 1671, 1682, 5241, 4532])\n",
        "\n",
        "print(\"original array:\", student_id)\n",
        "\n",
        "# reverse the array\n",
        "student_id_reverse = student_id[::-1]\n",
        "print(\"reversed array:\", student_id_reverse)\n",
        "\n",
        "# sort the array\n",
        "student_array_sort = np.argsort(student_id)\n",
        "student_id_sorted = student_id[student_array_sort]\n",
        "\n",
        "print(student_id_sorted)\n",
        "\n",
        "# Find the 3 largest values\n",
        "large_Values = student_id_sorted[4 : 7]\n",
        "\n",
        "print(\"3-largest values:\", large_Values)\n"
      ],
      "execution_count": 11,
      "outputs": [
        {
          "output_type": "stream",
          "text": [
            "original array: [1023 5202 6230 1671 1682 5241 4532]\n",
            "reversed array: [4532 5241 1682 1671 6230 5202 1023]\n",
            "[1023 1671 1682 4532 5202 5241 6230]\n",
            "3-largest values: [5202 5241 6230]\n"
          ],
          "name": "stdout"
        }
      ]
    },
    {
      "cell_type": "markdown",
      "metadata": {
        "id": "uKRyDVuW6B19"
      },
      "source": [
        "# **Q5: Write a numpy program to print sum of all the multiples of 3 or 5 below 100**"
      ]
    },
    {
      "cell_type": "code",
      "metadata": {
        "id": "ZIixq1gz6OK3",
        "colab": {
          "base_uri": "https://localhost:8080/"
        },
        "outputId": "e1eeee98-8e37-49cd-8cb9-963a79e05a07"
      },
      "source": [
        "# Type your solution here\n",
        "import numpy as np\n",
        "\n",
        "# set the range\n",
        "range = np.arange(1,100)\n",
        "\n",
        "# find the multiples\n",
        "multiple = range[(range % 3 == 0) | (range % 5 == 0)]\n",
        "\n",
        "print(multiple[:100])\n",
        "\n",
        "print(multiple.sum())\n",
        "\n",
        "\n",
        "# Hint: you can use arange to start off"
      ],
      "execution_count": 16,
      "outputs": [
        {
          "output_type": "stream",
          "text": [
            "[ 3  5  6  9 10 12 15 18 20 21 24 25 27 30 33 35 36 39 40 42 45 48 50 51\n",
            " 54 55 57 60 63 65 66 69 70 72 75 78 80 81 84 85 87 90 93 95 96 99]\n",
            "2318\n"
          ],
          "name": "stdout"
        }
      ]
    },
    {
      "cell_type": "markdown",
      "metadata": {
        "id": "2CWJOsP24c34"
      },
      "source": [
        "**Q6. Consider the below array.**\n",
        "\n",
        "Q6.1. Write a code to swap column 1 with column 2.\n",
        "\n",
        "Q6.2. Write a code to swap row 0 with row 1."
      ]
    },
    {
      "cell_type": "code",
      "metadata": {
        "id": "3OG6X5Eg5KSM"
      },
      "source": [
        "import numpy as np\n",
        "\n",
        "arr = np.arange(12).reshape(3,4)\n",
        "print(arr)"
      ],
      "execution_count": null,
      "outputs": []
    },
    {
      "cell_type": "code",
      "metadata": {
        "id": "Q-Q91DpO5YYW",
        "colab": {
          "base_uri": "https://localhost:8080/"
        },
        "outputId": "66228d4a-20ca-4037-c7c7-d5b5474df08b"
      },
      "source": [
        "# Type your solution here\n",
        "arr = np.arange(12).reshape(3,4)\n",
        "print(arr)\n",
        "\n",
        "# Swap column 1 with column 2\n",
        "arr[:,[1,2]] = arr[:,[2,1]]\n",
        "print(arr)\n",
        "\n",
        "# Swap  row 0 with row 1\n",
        "arr[[0,1]] = arr[[1,0]]\n",
        "print(arr)"
      ],
      "execution_count": 4,
      "outputs": [
        {
          "output_type": "stream",
          "text": [
            "[[ 0  1  2  3]\n",
            " [ 4  5  6  7]\n",
            " [ 8  9 10 11]]\n",
            "[[ 0  2  1  3]\n",
            " [ 4  6  5  7]\n",
            " [ 8 10  9 11]]\n",
            "[[ 4  6  5  7]\n",
            " [ 0  2  1  3]\n",
            " [ 8 10  9 11]]\n"
          ],
          "name": "stdout"
        }
      ]
    }
  ]
}